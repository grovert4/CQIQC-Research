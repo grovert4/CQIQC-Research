{
 "cells": [
  {
   "cell_type": "code",
   "execution_count": 64,
   "metadata": {},
   "outputs": [],
   "source": [
    "using TightBindingToolkit, Plots, LinearAlgebra"
   ]
  },
  {
   "cell_type": "code",
   "execution_count": 97,
   "metadata": {},
   "outputs": [
    {
     "name": "stdout",
     "output_type": "stream",
     "text": [
      "Hamiltonian Diagonalized\n",
      "System filled!\n"
     ]
    },
    {
     "name": "stdout",
     "output_type": "stream",
     "text": [
      "Chern number is: 0.0\n"
     ]
    }
   ],
   "source": [
    "a1 = [ 1/2 , sqrt(3)/2 ]\n",
    "a2 = [-1/2 , sqrt(3)/2 ]\n",
    "UC = UnitCell( [a1 , a2] , 1)\n",
    "b1 = [ 0.0 , sqrt(3)/2 ]\n",
    "addBasisSite!(UC , b1)\n",
    "\n",
    "const t1  =  -1.0\n",
    "const NNdistance = 1/sqrt(3)\n",
    "\n",
    "\n",
    "# addIsotropicBonds!(UC , NNdistance, 1.0 , \"t1\")\n",
    "addAnisotropicBond!(UC , 1 , 1 , [ 1 , 0 ]  , t1 * exp(im * pi/2) , 1.0, \"M\")\n",
    "addAnisotropicBond!(UC , 1 , 1 , [ 0 , 1 ]  , t1 * exp(-im * pi/2) , 1.0, \"M\")\n",
    "addAnisotropicBond!(UC , 1 , 1 , [ -1 , 0 ]  , t1 * exp(-im * pi/2) , 1.0, \"M\")\n",
    "addAnisotropicBond!(UC , 1 , 1 , [ 0 , -1 ]  , t1 * exp(im * pi/2) , 1.0, \"M\")\n",
    "addAnisotropicBond!(UC , 1 , 1 , [ 1 , -1 ]  , t1 * exp(im * pi/2) , 1.0, \"M\")\n",
    "addAnisotropicBond!(UC , 1 , 1 , [ -1 , 1 ]  , t1 * exp(-im * pi/2) , 1.0, \"M\")\n",
    "# addAnisotropicBond!(UC , 1 , 1 , [ 0 , 0 ]  , t1 * exp(im * pi/2) , 0.0, \"M\")\n",
    "\n",
    "const kSize   =   6 * 25 + 3   ##### a Monkhorst grid of size N = 6n+3 covers all the High-symemtry points.\n",
    "bz =  BZ(kSize)\n",
    "fillBZ!(bz, UC)\n",
    "\n",
    "H = Hamiltonian(UC, bz)\n",
    "DiagonalizeHamiltonian!(H)\n",
    "\n",
    "\"\"\"\n",
    "Filling the model with fermions at half-filling, with the default temperature T=0.0.\n",
    "\"\"\"\n",
    "triangularFlux = Model(UC, bz, H ; filling=0.5)\n",
    "SolveModel!(triangularFlux)\n",
    "chern   =   ChernNumber(H, [1])\n",
    "println(\"Chern number is: \" , chern)"
   ]
  }
 ],
 "metadata": {
  "kernelspec": {
   "display_name": "Julia 1.9.0",
   "language": "julia",
   "name": "julia-1.9"
  },
  "language_info": {
   "file_extension": ".jl",
   "mimetype": "application/julia",
   "name": "julia",
   "version": "1.9.0"
  },
  "orig_nbformat": 4
 },
 "nbformat": 4,
 "nbformat_minor": 2
}
